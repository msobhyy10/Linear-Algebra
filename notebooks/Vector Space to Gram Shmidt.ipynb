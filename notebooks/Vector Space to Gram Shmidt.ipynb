{
 "cells": [
  {
   "cell_type": "markdown",
   "id": "224eb76b",
   "metadata": {},
   "source": [
    "### Imports"
   ]
  },
  {
   "cell_type": "code",
   "execution_count": 69,
   "id": "04d39975",
   "metadata": {},
   "outputs": [],
   "source": [
    "import numpy as np\n",
    "import sympy as sm"
   ]
  },
  {
   "cell_type": "markdown",
   "id": "dd5fdc2a",
   "metadata": {},
   "source": [
    "## Linear Combination\n",
    "### Use NumPy"
   ]
  },
  {
   "cell_type": "markdown",
   "id": "38364291",
   "metadata": {},
   "source": [
    "$$v_1=\\begin{bmatrix} 1 \\\\ 2 \\\\ 3 \\end{bmatrix},\n",
    "v_2=\\begin{bmatrix} 3 \\\\ 5 \\\\ 1 \\end{bmatrix},\n",
    "v_3=\\begin{bmatrix} 0 \\\\ 0 \\\\ 8 \\end{bmatrix}$$\n",
    "- Find <b>b</b> vector where $$b=3v_1+0v_2+0v_3$$\n",
    "- Find <b>x</b> vector where $$x=-v_1+v_2-0.5v_3$$"
   ]
  },
  {
   "cell_type": "code",
   "execution_count": 70,
   "id": "75cff2ab",
   "metadata": {},
   "outputs": [
    {
     "name": "stdout",
     "output_type": "stream",
     "text": [
      "b:\n",
      " [[3]\n",
      " [6]\n",
      " [9]]\n",
      "\n",
      "x:\n",
      " [[ 2.]\n",
      " [ 3.]\n",
      " [-6.]]\n"
     ]
    }
   ],
   "source": [
    "v1 = np.array([[1], [2], [3]])\n",
    "\n",
    "v2 = np.array([[3], [5], [1]])\n",
    "\n",
    "v3 = np.array([[0], [0], [8]])\n",
    "\n",
    "b = 3 * v1 + 0 * v2 + 0 * v3\n",
    "x = -1 * v1 + v2 - 0.5 * v3\n",
    "\n",
    "print(\"b:\\n\", b)\n",
    "print()\n",
    "print(\"x:\\n\", x)"
   ]
  },
  {
   "cell_type": "markdown",
   "id": "54955382",
   "metadata": {},
   "source": [
    "## Vector Span\n",
    "### Use Numpy (matrix inverse) and SymPy (rref)"
   ]
  },
  {
   "cell_type": "markdown",
   "id": "9d440a16",
   "metadata": {},
   "source": [
    "#### Is $$v=\\begin{bmatrix} 19 \\\\ 10 \\\\ -1 \\end{bmatrix}$$ in the span of \n",
    "$$v_1=\\begin{bmatrix} 3 \\\\ -1 \\\\ 2 \\end{bmatrix},\n",
    "v_2=\\begin{bmatrix} -5 \\\\ 0 \\\\ 1 \\end{bmatrix},\n",
    "v_3=\\begin{bmatrix} 1 \\\\ 7 \\\\ -4 \\end{bmatrix}$$"
   ]
  },
  {
   "cell_type": "code",
   "execution_count": 71,
   "id": "ca76e762",
   "metadata": {},
   "outputs": [
    {
     "data": {
      "text/latex": [
       "$\\displaystyle \\left[\\begin{matrix}3 & -5 & 1 & 19\\\\-1 & 0 & 7 & 10\\\\2 & 1 & -4 & -1\\end{matrix}\\right]$"
      ],
      "text/plain": [
       "Matrix([\n",
       "[ 3, -5,  1, 19],\n",
       "[-1,  0,  7, 10],\n",
       "[ 2,  1, -4, -1]])"
      ]
     },
     "metadata": {},
     "output_type": "display_data"
    },
    {
     "name": "stdout",
     "output_type": "stream",
     "text": [
      "\n"
     ]
    },
    {
     "data": {
      "text/plain": [
       "(Matrix([\n",
       " [1, 0, 0,  4],\n",
       " [0, 1, 0, -1],\n",
       " [0, 0, 1,  2]]),\n",
       " (0, 1, 2))"
      ]
     },
     "metadata": {},
     "output_type": "display_data"
    }
   ],
   "source": [
    "W = np.array([[19],\n",
    "              [10],\n",
    "              [-1]])\n",
    "\n",
    "V = np.array([[3, -5, 1],\n",
    "              [-1, 0, 7],\n",
    "              [2, 1, -4]])\n",
    "\n",
    "M = sm.Matrix(np.concatenate((V, W), axis=1))\n",
    "\n",
    "display(M)\n",
    "print()\n",
    "display(M.rref())"
   ]
  },
  {
   "cell_type": "code",
   "execution_count": 72,
   "id": "6da888d4",
   "metadata": {},
   "outputs": [
    {
     "name": "stdout",
     "output_type": "stream",
     "text": [
      "[[ 4.]\n",
      " [-1.]\n",
      " [ 2.]]\n"
     ]
    }
   ],
   "source": [
    "print(np.linalg.inv(V)@W)"
   ]
  },
  {
   "cell_type": "markdown",
   "id": "821a71ae",
   "metadata": {},
   "source": [
    "## Vector Linear Independence\n",
    "### Use rref and determinant\n",
    "- Consider the following sets of vectors in R3. If the set is independent, prove it. \n",
    "- If the set is dependent, find a nontrivial linear combination of the vectors which is equal to 0.\n",
    "    - {(2, 0, -3), (1, 1, 1), (1, 7, 2)}.\n",
    "    - {(1, 2, -1), (4, 1, 3), (-10, 1, -11)}.\n",
    "\n",
    "<b>Hint: we have to determine whether this implies that 𝒂=𝒃=𝒄=𝟎.</b>"
   ]
  },
  {
   "cell_type": "code",
   "execution_count": 73,
   "id": "c0b63a27",
   "metadata": {},
   "outputs": [
    {
     "name": "stdout",
     "output_type": "stream",
     "text": [
      "Matrix determinant: -28\n",
      "\n",
      "Matrix RREF:\n"
     ]
    },
    {
     "data": {
      "text/plain": [
       "(Matrix([\n",
       " [1, 0, 0],\n",
       " [0, 1, 0],\n",
       " [0, 0, 1]]),\n",
       " (0, 1, 2))"
      ]
     },
     "metadata": {},
     "output_type": "display_data"
    }
   ],
   "source": [
    "M = sm.Matrix([[2, 1, 1],\n",
    "              [0, 1, 7],\n",
    "              [-3, 1, 2]])\n",
    "\n",
    "print(\"Matrix determinant:\", sm.det(M))\n",
    "print(\"\\nMatrix RREF:\")\n",
    "display(M.rref())"
   ]
  },
  {
   "cell_type": "markdown",
   "id": "35289138",
   "metadata": {},
   "source": [
    "The determinant is nonzero ($-28$), so the matrix is **invertible**.\n",
    "Its RREF is the identity with pivots in all columns, meaning it has **full rank** and the columns are **linearly independent**."
   ]
  },
  {
   "cell_type": "code",
   "execution_count": 74,
   "id": "ddef10e0",
   "metadata": {},
   "outputs": [
    {
     "name": "stdout",
     "output_type": "stream",
     "text": [
      "Matrix determinant: 0\n",
      "\n",
      "Matrix RREF:\n"
     ]
    },
    {
     "data": {
      "text/plain": [
       "(Matrix([\n",
       " [1, 0,  2],\n",
       " [0, 1, -3],\n",
       " [0, 0,  0]]),\n",
       " (0, 1))"
      ]
     },
     "metadata": {},
     "output_type": "display_data"
    }
   ],
   "source": [
    "M = sm.Matrix([[1, 4, -10],\n",
    "               [2, 1, 1],\n",
    "               [-1, 3, -11]])\n",
    "\n",
    "print(\"Matrix determinant:\", sm.det(M))\n",
    "print(\"\\nMatrix RREF:\")\n",
    "display(M.rref())"
   ]
  },
  {
   "cell_type": "markdown",
   "id": "a389fa75",
   "metadata": {},
   "source": [
    "The determinant is $0$, so the matrix is **singular** (not invertible).\n",
    "Its RREF has rank $2 < 3$, with pivots in columns 0 and 1.\n",
    "This means the columns are **linearly dependent**, and there are free variables → **infinitely many solutions** (if consistent)."
   ]
  },
  {
   "cell_type": "markdown",
   "id": "c88fb001",
   "metadata": {},
   "source": [
    "## Linear Transformation\n",
    "### Ex.1"
   ]
  },
  {
   "cell_type": "markdown",
   "id": "9ef341fd",
   "metadata": {},
   "source": [
    "$$T=\\begin{bmatrix} 1&2 \\\\ 3&7 \\end{bmatrix}$$\n",
    "- Write the linear transformation expression of this matrix. i.e. Linear functions of x,y. \n",
    "- Apply the transformation matrix <b>T</b> to the following vectors:\n",
    "$$\\begin{bmatrix} 1 \\\\ 0 \\end{bmatrix},\\begin{bmatrix} 0 \\\\ 1 \\end{bmatrix} $$\n",
    "- Find all points <b>(x,y)</b> such that <b>T(x,y)=(1,0)</b>"
   ]
  },
  {
   "cell_type": "code",
   "execution_count": 75,
   "id": "30aee45e",
   "metadata": {},
   "outputs": [],
   "source": [
    "T = np.array([[1, 2],\n",
    "              [3, 7]])\n",
    "\n",
    "V1 = np.array([[1],\n",
    "               [0]])\n",
    "\n",
    "V2 = np.array([[0],\n",
    "               [1]])"
   ]
  },
  {
   "cell_type": "code",
   "execution_count": 76,
   "id": "2d15b96c",
   "metadata": {},
   "outputs": [
    {
     "name": "stdout",
     "output_type": "stream",
     "text": [
      "T.V1:\n",
      " [[1]\n",
      " [3]]\n",
      "\n",
      "T.V2:\n",
      " [[2]\n",
      " [7]]\n"
     ]
    }
   ],
   "source": [
    "print(\"T.V1:\\n\", T @ V1)\n",
    "print()\n",
    "print(\"T.V2:\\n\", T @ V2)"
   ]
  },
  {
   "cell_type": "code",
   "execution_count": 77,
   "id": "d3e46a3d",
   "metadata": {},
   "outputs": [
    {
     "name": "stdout",
     "output_type": "stream",
     "text": [
      "(x,y): \n",
      " [[ 7.]\n",
      " [-3.]]\n"
     ]
    }
   ],
   "source": [
    "print('(x,y): \\n', np.linalg.inv(T) @ V1)"
   ]
  },
  {
   "cell_type": "markdown",
   "id": "aa9f63c6",
   "metadata": {},
   "source": [
    "### Ex.2\n",
    "### For the expression $$T\\begin{bmatrix} x \\\\ y \\end{bmatrix}=\\begin{bmatrix} x+y \\\\ y \\end{bmatrix}$$\n",
    "- Find the transformation matrix.\n",
    "- Represent the transformation graphically <b>(on paper)</b>.\n",
    "- Find all points <b>(x,y)</b> such that <b>T(x,y)=(3,4)</b>"
   ]
  },
  {
   "cell_type": "code",
   "execution_count": 78,
   "id": "4101caa1",
   "metadata": {},
   "outputs": [
    {
     "name": "stdout",
     "output_type": "stream",
     "text": [
      "x:\n",
      " [[-1.]\n",
      " [ 4.]]\n"
     ]
    }
   ],
   "source": [
    "T = np.array([[1, 1],\n",
    "              [0, 1]])\n",
    "\n",
    "V = np.array([[3],\n",
    "             [4]])\n",
    "\n",
    "np.linalg.inv(T) @ V\n",
    "print('x:\\n', np.linalg.inv(T) @ V)"
   ]
  },
  {
   "cell_type": "markdown",
   "id": "81b7edf9",
   "metadata": {},
   "source": [
    "## Determinant\n",
    "### Find Determinant of:"
   ]
  },
  {
   "cell_type": "markdown",
   "id": "f999e755",
   "metadata": {},
   "source": [
    "$$\\begin{bmatrix} 3&8 \\\\ 4&6 \\end{bmatrix} , \\begin{bmatrix} 4&6 \\\\ 3&8 \\end{bmatrix}$$\n",
    "$$\\begin{bmatrix} 6&1&1 \\\\ 4&-2&5 \\\\ 2&8&7\\end{bmatrix}$$\n",
    "$$\\begin{bmatrix} 3&2&0&1 \\\\ 4&0&1&2 \\\\ 3&0&2&1 \\\\ 9&2&3&1\\end{bmatrix}$$\n"
   ]
  },
  {
   "cell_type": "code",
   "execution_count": 79,
   "id": "29b225bd",
   "metadata": {},
   "outputs": [
    {
     "name": "stdout",
     "output_type": "stream",
     "text": [
      "1.  -14\n",
      "2.  14\n",
      "3.  -306\n",
      "4.  24\n"
     ]
    }
   ],
   "source": [
    "M1 = sm.Matrix([[3, 8],\n",
    "                [4, 6]])\n",
    "\n",
    "M2 = sm.Matrix([[4, 6],\n",
    "                [3, 8]])\n",
    "\n",
    "M3 = sm.Matrix([[6, 1, 1],\n",
    "                [4, -2, 5],\n",
    "                [2, 8, 7]])\n",
    "\n",
    "M4 = sm.Matrix([[3, 2, 0, 1],\n",
    "                [4, 0, 1, 2],\n",
    "                [3, 0, 2, 1],\n",
    "                [9, 2, 3, 1]])\n",
    "\n",
    "print('1. ', sm.det(M1))\n",
    "print('2. ', sm.det(M2))\n",
    "print('3. ', sm.det(M3))\n",
    "print('4. ', sm.det(M4))\n"
   ]
  },
  {
   "cell_type": "markdown",
   "id": "3d7f760c",
   "metadata": {},
   "source": [
    "## Matrix Rank\n",
    "### Find the rank of the matrix (use rref and confirm using matrix_rank())"
   ]
  },
  {
   "cell_type": "markdown",
   "id": "39022ae4",
   "metadata": {},
   "source": [
    "$$X = \\begin{bmatrix} 1&2&4&4 \\\\ 3&4&8&0 \\end{bmatrix}$$\n",
    "$$Y = \\begin{bmatrix} 1&2&3 \\\\ 2&3&5 \\\\ 3&4&7 \\\\ 4&5&9  \\end{bmatrix}$$"
   ]
  },
  {
   "cell_type": "code",
   "execution_count": 80,
   "id": "13af524e",
   "metadata": {},
   "outputs": [],
   "source": [
    "X = np.array([[1, 2, 4, 4],\n",
    "              [3, 4, 8, 0]])\n",
    "\n",
    "Y = np.array([[1, 2, 3],\n",
    "              [2, 3, 5],\n",
    "              [3, 4, 7],\n",
    "              [4, 5, 9]])"
   ]
  },
  {
   "cell_type": "code",
   "execution_count": 81,
   "id": "5b31fd67",
   "metadata": {},
   "outputs": [
    {
     "name": "stdout",
     "output_type": "stream",
     "text": [
      "(Matrix([\n",
      "[1, 0, 0, -8],\n",
      "[0, 1, 2,  6]]), (0, 1))\n",
      "\n",
      "X rank: 2\n"
     ]
    }
   ],
   "source": [
    "print(sm.Matrix(X).rref())\n",
    "print()\n",
    "print('X rank:', np.linalg.matrix_rank(X))"
   ]
  },
  {
   "cell_type": "code",
   "execution_count": 82,
   "id": "6855c257",
   "metadata": {},
   "outputs": [
    {
     "name": "stdout",
     "output_type": "stream",
     "text": [
      "(Matrix([\n",
      "[1, 0, 1],\n",
      "[0, 1, 1],\n",
      "[0, 0, 0],\n",
      "[0, 0, 0]]), (0, 1))\n",
      "\n",
      "Y rank: 2\n"
     ]
    }
   ],
   "source": [
    "print(sm.Matrix(Y).rref())\n",
    "print()\n",
    "print('Y rank:', np.linalg.matrix_rank(Y))"
   ]
  },
  {
   "cell_type": "markdown",
   "id": "9b55ebcf",
   "metadata": {},
   "source": [
    "## Matrix Inverse\n",
    "### Find the inverse:"
   ]
  },
  {
   "cell_type": "markdown",
   "id": "6f15a14c",
   "metadata": {},
   "source": [
    "$$\\begin{bmatrix} 3&8 \\\\ 4&6 \\end{bmatrix} , \\begin{bmatrix} 4&6 \\\\ 3&8 \\end{bmatrix}$$\n",
    "$$\\begin{bmatrix} 6&1&1 \\\\ 4&-2&5 \\\\ 2&8&7\\end{bmatrix}$$\n",
    "$$\\begin{bmatrix} 3&2&0&1 \\\\ 4&0&1&2 \\\\ 3&0&2&1 \\\\ 9&2&3&1\\end{bmatrix}$$"
   ]
  },
  {
   "cell_type": "code",
   "execution_count": 83,
   "id": "cfc560e7",
   "metadata": {},
   "outputs": [
    {
     "name": "stdout",
     "output_type": "stream",
     "text": [
      "1. \n",
      " [[-0.42857143  0.57142857]\n",
      " [ 0.28571429 -0.21428571]]\n",
      "\n",
      "2. \n",
      " [[ 0.57142857 -0.42857143]\n",
      " [-0.21428571  0.28571429]]\n",
      "\n",
      "3. \n",
      " [[ 0.17647059 -0.00326797 -0.02287582]\n",
      " [ 0.05882353 -0.13071895  0.08496732]\n",
      " [-0.11764706  0.1503268   0.05228758]]\n",
      "\n",
      "4. \n",
      " [[-0.25        0.25       -0.5         0.25      ]\n",
      " [ 0.66666667 -0.5         0.5        -0.16666667]\n",
      " [ 0.16666667 -0.5         1.         -0.16666667]\n",
      " [ 0.41666667  0.25        0.5        -0.41666667]]\n"
     ]
    }
   ],
   "source": [
    "M1 = np.array([[3, 8],\n",
    "               [4, 6]])\n",
    "\n",
    "M2 = np.array([[4, 6],\n",
    "               [3, 8]])\n",
    "\n",
    "M3 = np.array([[6, 1, 1],\n",
    "               [4, -2, 5],\n",
    "               [2, 8, 7]])\n",
    "\n",
    "M4 = np.array([[3, 2, 0, 1],\n",
    "               [4, 0, 1, 2],\n",
    "               [3, 0, 2, 1],\n",
    "               [9, 2, 3, 1]])\n",
    "\n",
    "print('1. \\n', np.linalg.inv(M1))\n",
    "print()\n",
    "print('2. \\n', np.linalg.inv(M2))\n",
    "print()\n",
    "print('3. \\n', np.linalg.inv(M3))\n",
    "print()\n",
    "print('4. \\n', np.linalg.inv(M4))"
   ]
  },
  {
   "attachments": {
    "image-3.png": {
     "image/png": "[encoded data removed]"
    }
   },
   "cell_type": "markdown",
   "id": "6dfa4568",
   "metadata": {},
   "source": [
    "## Changing Basis (Orthogonal Coordinates)\n",
    "### Perform the following (Once by dot product and another by matix). \n",
    "### First confirm b1 and b2 are orthogonal basis.\n",
    "![image-3.png](attachment:image-3.png)"
   ]
  },
  {
   "cell_type": "markdown",
   "id": "0eeed76d",
   "metadata": {},
   "source": [
    "##### 1)"
   ]
  },
  {
   "cell_type": "code",
   "execution_count": 84,
   "id": "1f0e7bf8",
   "metadata": {},
   "outputs": [
    {
     "name": "stdout",
     "output_type": "stream",
     "text": [
      "V: \n",
      " [[ 5]\n",
      " [-1]]\n",
      "\n",
      "B: \n",
      " [[ 1  1]\n",
      " [ 1 -1]]\n"
     ]
    }
   ],
   "source": [
    "V = np.array([[5],\n",
    "              [-1]])\n",
    "\n",
    "b1 = np.array([[1],\n",
    "               [1]])\n",
    "\n",
    "b2 = np.array([[1],\n",
    "               [-1]])\n",
    "\n",
    "B = np.concatenate((b1, b2), axis=1)\n",
    "\n",
    "print('V: \\n', V)\n",
    "print()\n",
    "print('B: \\n', B)"
   ]
  },
  {
   "cell_type": "code",
   "execution_count": 85,
   "id": "481c60c6",
   "metadata": {},
   "outputs": [
    {
     "data": {
      "text/plain": [
       "array([[0]])"
      ]
     },
     "execution_count": 85,
     "metadata": {},
     "output_type": "execute_result"
    }
   ],
   "source": [
    "b1.T @ b2"
   ]
  },
  {
   "cell_type": "markdown",
   "id": "c75e6fd2",
   "metadata": {},
   "source": [
    "Since b₁ · b₂ = 0, the vectors b₁ and b₂ are orthogonal.\n",
    "\n",
    "Now we can find the coordinates of vector V in the orthogonal basis {b₁, b₂} using the dot product method:\n",
    "\n",
    "**Dot Product Method:**\n",
    "- c₁ = (V · b₁) / (b₁ · b₁) = (V · b₁) / ||b₁||²\n",
    "- c₂ = (V · b₂) / (b₂ · b₂) = (V · b₂) / ||b₂||²\n",
    "\n",
    "**Matrix Method:**\n",
    "- c = B⁻¹V"
   ]
  },
  {
   "cell_type": "code",
   "execution_count": 86,
   "id": "77972dd1",
   "metadata": {},
   "outputs": [
    {
     "name": "stdout",
     "output_type": "stream",
     "text": [
      "Using dot product \n",
      " vb:\n",
      " [[2.]\n",
      " [3.]]\n"
     ]
    }
   ],
   "source": [
    "# Dot Product Method\n",
    "Vb1 = (V.T @ b1) / (b1.T @ b1)\n",
    "Vb2 = (V.T @ b2) / (b2.T @ b2)\n",
    "\n",
    "# OR\n",
    "# Vb1 = (V.T @ b1) / (np.linalg.norm(b1)**2)\n",
    "# Vb2 = (V.T @ b2) / (np.linalg.norm(b2)**2)\n",
    "\n",
    "Vb = np.concatenate((Vb1, Vb2))\n",
    "\n",
    "print('Using dot product \\n vb:\\n', Vb)"
   ]
  },
  {
   "cell_type": "code",
   "execution_count": 87,
   "id": "1ac7a564",
   "metadata": {},
   "outputs": [
    {
     "name": "stdout",
     "output_type": "stream",
     "text": [
      "Using transformation matrix \n",
      " vb: \n",
      " [[2.]\n",
      " [3.]]\n"
     ]
    }
   ],
   "source": [
    "# Matrix Method\n",
    "print('Using transformation matrix \\n vb: \\n', np.linalg.inv(B) @ V)"
   ]
  },
  {
   "cell_type": "markdown",
   "id": "238d7fc2",
   "metadata": {},
   "source": [
    "##### 2)"
   ]
  },
  {
   "cell_type": "code",
   "execution_count": 88,
   "id": "4ea95fb0",
   "metadata": {},
   "outputs": [
    {
     "name": "stdout",
     "output_type": "stream",
     "text": [
      "V: \n",
      " [[10]\n",
      " [-5]]\n",
      "\n",
      "B: \n",
      " [[ 3  4]\n",
      " [ 4 -3]]\n"
     ]
    }
   ],
   "source": [
    "V = np.array([[10],\n",
    "              [-5]])\n",
    "\n",
    "b1 = np.array([[3],\n",
    "               [4]])\n",
    "\n",
    "b2 = np.array([[4],\n",
    "               [-3]])\n",
    "\n",
    "B = np.concatenate((b1, b2), axis=1)\n",
    "\n",
    "print('V: \\n', V)\n",
    "print()\n",
    "print('B: \\n', B)"
   ]
  },
  {
   "cell_type": "code",
   "execution_count": 89,
   "id": "14754df7",
   "metadata": {},
   "outputs": [
    {
     "data": {
      "text/plain": [
       "array([[0]])"
      ]
     },
     "execution_count": 89,
     "metadata": {},
     "output_type": "execute_result"
    }
   ],
   "source": [
    "b1.T @ b2"
   ]
  },
  {
   "cell_type": "markdown",
   "id": "369401d6",
   "metadata": {},
   "source": [
    "Since b₁ · b₂ = 0, the vectors b₁ and b₂ are orthogonal.\n",
    "\n",
    "Now we can find the coordinates of vector V in the orthogonal basis {b₁, b₂} using the dot product method:\n",
    "\n",
    "**Dot Product Method:**\n",
    "- c₁ = (V · b₁) / (b₁ · b₁) = (V · b₁) / ||b₁||²\n",
    "- c₂ = (V · b₂) / (b₂ · b₂) = (V · b₂) / ||b₂||²\n",
    "\n",
    "**Matrix Method:**\n",
    "- c = B⁻¹V"
   ]
  },
  {
   "cell_type": "code",
   "execution_count": 90,
   "id": "937c5825",
   "metadata": {},
   "outputs": [
    {
     "name": "stdout",
     "output_type": "stream",
     "text": [
      "Using dot product \n",
      " vb:\n",
      " [[0.4]\n",
      " [2.2]]\n"
     ]
    }
   ],
   "source": [
    "# Dot Product Method\n",
    "Vb1 = (V.T @ b1) / (b1.T @ b1)\n",
    "Vb2 = (V.T @ b2) / (b2.T @ b2)\n",
    "\n",
    "# OR\n",
    "# Vb1 = (V.T @ b1) / (np.linalg.norm(b1)**2)\n",
    "# Vb2 = (V.T @ b2) / (np.linalg.norm(b2)**2)\n",
    "\n",
    "Vb = np.concatenate((Vb1, Vb2))\n",
    "\n",
    "print('Using dot product \\n vb:\\n', Vb)"
   ]
  },
  {
   "cell_type": "code",
   "execution_count": 91,
   "id": "cfc8ee4f",
   "metadata": {},
   "outputs": [
    {
     "name": "stdout",
     "output_type": "stream",
     "text": [
      "Using transformation matrix \n",
      " vb: \n",
      " [[0.4]\n",
      " [2.2]]\n"
     ]
    }
   ],
   "source": [
    "# Matrix Method\n",
    "print('Using transformation matrix \\n vb: \\n', np.linalg.inv(B) @ V)"
   ]
  },
  {
   "attachments": {
    "image-4.png": {
     "image/png": "[encoded data removed]"
    }
   },
   "cell_type": "markdown",
   "id": "87b1b94e",
   "metadata": {},
   "source": [
    "## Changing Basis (Non-Orthogonal Coordinates)\n",
    "### Perform the following. \n",
    "### First confirm b1 and b2 are non-orthogonal basis.\n",
    "![image-4.png](attachment:image-4.png)"
   ]
  },
  {
   "cell_type": "code",
   "execution_count": 92,
   "id": "22c98f35",
   "metadata": {},
   "outputs": [
    {
     "name": "stdout",
     "output_type": "stream",
     "text": [
      "V: \n",
      " [[5]\n",
      " [2]]\n",
      "\n",
      "B: \n",
      " [[3 1]\n",
      " [1 1]]\n"
     ]
    }
   ],
   "source": [
    "V = np.array([[5],\n",
    "              [2]])\n",
    "\n",
    "b1 = np.array([[3],\n",
    "               [1]])\n",
    "\n",
    "b2 = np.array([[1],\n",
    "               [1]])\n",
    "\n",
    "B = np.concatenate((b1, b2), axis=1)\n",
    "\n",
    "print('V: \\n', V)\n",
    "print()\n",
    "print('B: \\n', B)"
   ]
  },
  {
   "cell_type": "code",
   "execution_count": 93,
   "id": "3f422001",
   "metadata": {},
   "outputs": [
    {
     "data": {
      "text/plain": [
       "array([[4]])"
      ]
     },
     "execution_count": 93,
     "metadata": {},
     "output_type": "execute_result"
    }
   ],
   "source": [
    "b1.T @ b2"
   ]
  },
  {
   "cell_type": "markdown",
   "id": "a03b8ab4",
   "metadata": {},
   "source": [
    "Since b₁ · b₂ = 3·1 + 1·1 = 4 ≠ 0 ⇒ the basis vectors are linearly independent but not orthogonal.\n",
    "\n",
    "Because the basis is non-orthogonal, coordinates of V in this basis cannot be found by simple dot-product ratios (that works only for orthogonal bases). Instead solve:\n",
    "c = B⁻¹V"
   ]
  },
  {
   "cell_type": "code",
   "execution_count": 94,
   "id": "dc21f392",
   "metadata": {},
   "outputs": [
    {
     "name": "stdout",
     "output_type": "stream",
     "text": [
      "vb: \n",
      " [[1.5]\n",
      " [0.5]]\n"
     ]
    }
   ],
   "source": [
    "print('vb: \\n', np.linalg.inv(B) @ V)"
   ]
  },
  {
   "attachments": {
    "image-3.png": {
     "image/png": "[encoded data removed]"
    }
   },
   "cell_type": "markdown",
   "id": "24e6f17d",
   "metadata": {},
   "source": [
    "## Transformation in Non-Orthonormal Space\n",
    "![image-3.png](attachment:image-3.png)"
   ]
  },
  {
   "cell_type": "code",
   "execution_count": 95,
   "id": "f4aaae69",
   "metadata": {},
   "outputs": [],
   "source": [
    "Vb = np.array([[1.5],\n",
    "               [0.5]])\n",
    "\n",
    "b1 = np.array([[3],\n",
    "               [1]])\n",
    "\n",
    "b2 = np.array([[1],\n",
    "               [1]])\n",
    "\n",
    "B = np.concatenate((b1, b2), axis=1)\n",
    "\n",
    "TE1 = np.array([[1, 0],\n",
    "                [0, -1]])\n",
    "\n",
    "TE2 = np.array([[0, 1],\n",
    "                [-1, 0]])"
   ]
  },
  {
   "cell_type": "code",
   "execution_count": 96,
   "id": "b41ca479",
   "metadata": {},
   "outputs": [
    {
     "name": "stdout",
     "output_type": "stream",
     "text": [
      "TB1 = \n",
      " [[ 2.  1.]\n",
      " [-3. -2.]]\n",
      "\n",
      "TB2 = \n",
      " [[ 2.  1.]\n",
      " [-5. -2.]]\n"
     ]
    }
   ],
   "source": [
    "# Transformation Matrix with respect to b basis: B⁻¹ T B\n",
    "TB1 = np.linalg.inv(B) @ TE1 @ B\n",
    "TB2 = np.linalg.inv(B) @ TE2 @ B\n",
    "\n",
    "print('TB1 = \\n', TB1)\n",
    "print()\n",
    "print('TB2 = \\n', TB2)"
   ]
  },
  {
   "cell_type": "code",
   "execution_count": 97,
   "id": "6a96c43f",
   "metadata": {
    "scrolled": true
   },
   "outputs": [
    {
     "name": "stdout",
     "output_type": "stream",
     "text": [
      "vb_TB1 = \n",
      " [[ 3.5]\n",
      " [-5.5]]\n",
      "\n",
      "vb_TB2 = \n",
      " [[ 3.5]\n",
      " [-8.5]]\n"
     ]
    }
   ],
   "source": [
    "print('vb_TB1 = \\n', TB1 @ Vb)\n",
    "print()\n",
    "print('vb_TB2 = \\n', TB2 @ Vb)"
   ]
  },
  {
   "attachments": {
    "image-2.png": {
     "image/png": "[encoded data removed]"
    }
   },
   "cell_type": "markdown",
   "id": "2b687c17",
   "metadata": {},
   "source": [
    "## Gram–Schmidt Process (Orthogonalization)\n",
    "![image-2.png](attachment:image-2.png)\n",
    "#### Confirm your answer using numpy.linalg.qr() function\n",
    "#### Make sure all vectors given above are basis in R3 space.\n",
    "#### Confirm that the orthogonal matrix has orthonormal vectors.\n",
    "#### Confirm that the transpose of the orthogonal matrix is it's inverse.\n",
    "#### Reflect the vector r = (1,3,4) arround the xy plane.\n",
    "#### Round all results to 3 decimal points."
   ]
  },
  {
   "cell_type": "code",
   "execution_count": 98,
   "id": "07ba3659",
   "metadata": {},
   "outputs": [
    {
     "name": "stdout",
     "output_type": "stream",
     "text": [
      "V: \n",
      " [[ 1  8  0]\n",
      " [ 2  1  0]\n",
      " [ 0 -6  1]]\n"
     ]
    }
   ],
   "source": [
    "V1 = np.array([[1],\n",
    "               [2],\n",
    "               [0]])\n",
    "\n",
    "V2 = np.array([[8],\n",
    "               [1],\n",
    "               [-6]])\n",
    "\n",
    "V3 = np.array([[0],\n",
    "               [0],\n",
    "               [1]])\n",
    "\n",
    "V = np.concatenate((V1, V2, V3), axis=1)\n",
    "print('V: \\n', V)"
   ]
  },
  {
   "cell_type": "markdown",
   "id": "82df1668",
   "metadata": {},
   "source": [
    "Make sure all vectors given above are basis in R3 space.\n",
    "\n",
    "By one of three ways: \n",
    "\n",
    "    1) Identity Matrix from rref\n",
    "    2) rank = No. of Vectors\n",
    "    3) Determinant != 0"
   ]
  },
  {
   "cell_type": "markdown",
   "id": "e3f439a6",
   "metadata": {},
   "source": [
    "1) Identity Matrix from rref"
   ]
  },
  {
   "cell_type": "code",
   "execution_count": 99,
   "id": "974a524a",
   "metadata": {},
   "outputs": [
    {
     "data": {
      "text/plain": [
       "(Matrix([\n",
       " [1, 0, 0],\n",
       " [0, 1, 0],\n",
       " [0, 0, 1]]),\n",
       " (0, 1, 2))"
      ]
     },
     "execution_count": 99,
     "metadata": {},
     "output_type": "execute_result"
    }
   ],
   "source": [
    "sm.Matrix(V).rref()"
   ]
  },
  {
   "cell_type": "markdown",
   "id": "2f377b55",
   "metadata": {},
   "source": [
    "2) rank = No. of Vectors"
   ]
  },
  {
   "cell_type": "code",
   "execution_count": 100,
   "id": "d2130b98",
   "metadata": {},
   "outputs": [
    {
     "name": "stdout",
     "output_type": "stream",
     "text": [
      "3\n"
     ]
    }
   ],
   "source": [
    "print(np.linalg.matrix_rank(V))"
   ]
  },
  {
   "cell_type": "markdown",
   "id": "d43b36f2",
   "metadata": {},
   "source": [
    "3) Determinant != 0"
   ]
  },
  {
   "cell_type": "code",
   "execution_count": 101,
   "id": "b3dc66ed",
   "metadata": {},
   "outputs": [
    {
     "name": "stdout",
     "output_type": "stream",
     "text": [
      "-15.0\n"
     ]
    }
   ],
   "source": [
    "print(np.linalg.det(V))"
   ]
  },
  {
   "cell_type": "markdown",
   "id": "cb6e3df0",
   "metadata": {},
   "source": [
    "Then Vectors are independant and basis in R3 space."
   ]
  },
  {
   "cell_type": "markdown",
   "id": "cdd0ba8a",
   "metadata": {},
   "source": [
    "Gram-Schmedit (Orthogonalization) Manually"
   ]
  },
  {
   "cell_type": "code",
   "execution_count": 102,
   "id": "d7463680",
   "metadata": {},
   "outputs": [
    {
     "name": "stdout",
     "output_type": "stream",
     "text": [
      "u1:\n",
      " [[1]\n",
      " [2]\n",
      " [0]]\n",
      "\n",
      "u2:\n",
      " [[ 6.]\n",
      " [-3.]\n",
      " [-6.]]\n",
      "\n",
      "u3:\n",
      " [[ 0.44444444]\n",
      " [-0.22222222]\n",
      " [ 0.55555556]]\n",
      "\n",
      "e1:\n",
      " [[0.4472136 ]\n",
      " [0.89442719]\n",
      " [0.        ]]\n",
      "\n",
      "e2:\n",
      " [[ 0.66666667]\n",
      " [-0.33333333]\n",
      " [-0.66666667]]\n",
      "\n",
      "e3:\n",
      " [[ 0.59628479]\n",
      " [-0.2981424 ]\n",
      " [ 0.74535599]]\n"
     ]
    }
   ],
   "source": [
    "u1 = V1\n",
    "e1 = u1 / np.linalg.norm(u1)\n",
    "\n",
    "u2 = V2 - ( (V2.T @ u1) / (u1.T @ u1) ) * u1\n",
    "e2 = u2 / np.linalg.norm(u2)\n",
    "\n",
    "u3 = V3 - ( (V3.T @ u1) / (u1.T @ u1) ) * u1 - ( (V3.T @ u2) / (u2.T @ u2) ) * u2\n",
    "e3 = u3 / np.linalg.norm(u3)\n",
    "\n",
    "print('u1:\\n', u1)\n",
    "print()\n",
    "print('u2:\\n', u2)\n",
    "print()\n",
    "print('u3:\\n', u3)\n",
    "print()\n",
    "print('e1:\\n', e1)\n",
    "print()\n",
    "print('e2:\\n', e2)\n",
    "print()\n",
    "print('e3:\\n', e3)"
   ]
  },
  {
   "cell_type": "markdown",
   "id": "4e0f086d",
   "metadata": {},
   "source": [
    "Gram-Schmedit (Orthogonalization) Using function"
   ]
  },
  {
   "cell_type": "code",
   "execution_count": 103,
   "id": "7535e433",
   "metadata": {},
   "outputs": [
    {
     "data": {
      "text/plain": [
       "(array([[ 1.        ,  6.        ,  0.44444444],\n",
       "        [ 2.        , -3.        , -0.22222222],\n",
       "        [ 0.        , -6.        ,  0.55555556]]),\n",
       " array([[ 0.4472136 ,  0.66666667,  0.59628479],\n",
       "        [ 0.89442719, -0.33333333, -0.2981424 ],\n",
       "        [ 0.        , -0.66666667,  0.74535599]]))"
      ]
     },
     "execution_count": 103,
     "metadata": {},
     "output_type": "execute_result"
    }
   ],
   "source": [
    "def gram_schmedit(vectors):\n",
    "    \n",
    "    num_of_vecs = vectors.shape[1]\n",
    "    \n",
    "    U = []\n",
    "    E = []\n",
    "    for i in range(num_of_vecs):\n",
    "        \n",
    "        projections = 0\n",
    "        for j in range(i):\n",
    "            projections += ( vectors[:, i] @ U[j] ) / ( U[j] @ U[j] ) * U[j]\n",
    "\n",
    "        u = vectors[:, i] - projections\n",
    "        e = u / np.linalg.norm(u)\n",
    "        U.append(u)\n",
    "        E.append(e)\n",
    "\n",
    "    \n",
    "    U = np.array(U).T\n",
    "    E = np.array(E).T\n",
    "\n",
    "    return U, E\n",
    "\n",
    "U, E = gram_schmedit(V)\n",
    "\n",
    "U, E\n"
   ]
  },
  {
   "cell_type": "code",
   "execution_count": 104,
   "id": "dcc95164",
   "metadata": {},
   "outputs": [
    {
     "name": "stdout",
     "output_type": "stream",
     "text": [
      "U: \n",
      " [[ 1.          6.          0.44444444]\n",
      " [ 2.         -3.         -0.22222222]\n",
      " [ 0.         -6.          0.55555556]]\n",
      "\n",
      "E: \n",
      " [[ 0.4472136   0.66666667  0.59628479]\n",
      " [ 0.89442719 -0.33333333 -0.2981424 ]\n",
      " [ 0.         -0.66666667  0.74535599]]\n"
     ]
    }
   ],
   "source": [
    "U, E = gram_schmedit(V)\n",
    "\n",
    "print('U: \\n', U)\n",
    "print()\n",
    "print('E: \\n', E)"
   ]
  },
  {
   "cell_type": "markdown",
   "id": "d97e9b40",
   "metadata": {},
   "source": [
    "#### QR Decomposition"
   ]
  },
  {
   "cell_type": "code",
   "execution_count": 105,
   "id": "2776a74c",
   "metadata": {},
   "outputs": [
    {
     "name": "stdout",
     "output_type": "stream",
     "text": [
      "Using QR: \n",
      " [[-0.4472136   0.66666667  0.59628479]\n",
      " [-0.89442719 -0.33333333 -0.2981424 ]\n",
      " [-0.         -0.66666667  0.74535599]]\n"
     ]
    }
   ],
   "source": [
    "Q, R = np.linalg.qr(V)\n",
    "\n",
    "print('Using QR: \\n', Q)"
   ]
  },
  {
   "cell_type": "markdown",
   "id": "c2dc4e4b",
   "metadata": {},
   "source": [
    "#### Confirm that the orthogonal matrix has orthonormal vectors."
   ]
  },
  {
   "cell_type": "code",
   "execution_count": 106,
   "id": "dbe7aa98",
   "metadata": {},
   "outputs": [
    {
     "name": "stdout",
     "output_type": "stream",
     "text": [
      "Vector 1 Norm :  1.0\n",
      "Vector 2 Norm :  1.0\n",
      "Vector 3 Norm :  1.0\n"
     ]
    }
   ],
   "source": [
    "for i in range(E.shape[1]):\n",
    "    print(f'Vector {i+1} Norm : ', np.round(np.linalg.norm(E[:, i])))"
   ]
  },
  {
   "cell_type": "markdown",
   "id": "3af4795b",
   "metadata": {},
   "source": [
    "#### Confirm that the transpose of the orthogonal matrix is it's inverse."
   ]
  },
  {
   "cell_type": "code",
   "execution_count": 109,
   "id": "32346f53",
   "metadata": {},
   "outputs": [
    {
     "name": "stdout",
     "output_type": "stream",
     "text": [
      "E⁻¹:\n",
      " [[ 0.4472136   0.89442719  0.        ]\n",
      " [ 0.66666667 -0.33333333 -0.66666667]\n",
      " [ 0.59628479 -0.2981424   0.74535599]]\n",
      "\n",
      "Eᵀ:\n",
      " [[ 0.4472136   0.89442719  0.        ]\n",
      " [ 0.66666667 -0.33333333 -0.66666667]\n",
      " [ 0.59628479 -0.2981424   0.74535599]]\n",
      "\n",
      "E⁻¹ == Eᵀ: True\n"
     ]
    }
   ],
   "source": [
    "print(\"E⁻¹:\\n\", np.linalg.inv(E))\n",
    "print()\n",
    "print(\"Eᵀ:\\n\", E.T)\n",
    "print()\n",
    "print(\"E⁻¹ == Eᵀ:\", np.allclose(np.linalg.inv(E), E.T))"
   ]
  },
  {
   "cell_type": "markdown",
   "id": "dc4be584",
   "metadata": {},
   "source": [
    "#### Reflect the vector r = (1,3,4) arround the xy plane."
   ]
  },
  {
   "cell_type": "code",
   "execution_count": null,
   "id": "fa46589a",
   "metadata": {},
   "outputs": [
    {
     "name": "stdout",
     "output_type": "stream",
     "text": [
      "Transformed Vector:\n",
      " [[-2.2]\n",
      " [ 4.6]\n",
      " [-0. ]]\n"
     ]
    }
   ],
   "source": [
    "R = np.array([[1],\n",
    "              [3],\n",
    "              [4]])\n",
    "\n",
    "T = [[1, 0, 0],\n",
    "     [0, 1, 0],\n",
    "     [0, 0, -1]]\n",
    "\n",
    "print('Transformed Vector:\\n', np.round(E @ T @ E.T @ R, 3))"
   ]
  }
 ],
 "metadata": {
  "kernelspec": {
   "display_name": "Python 3",
   "language": "python",
   "name": "python3"
  },
  "language_info": {
   "codemirror_mode": {
    "name": "ipython",
    "version": 3
   },
   "file_extension": ".py",
   "mimetype": "text/x-python",
   "name": "python",
   "nbconvert_exporter": "python",
   "pygments_lexer": "ipython3",
   "version": "3.10.18"
  },
  "vscode": {
   "interpreter": {
    "hash": "72351c1d340cffae2893b1fff6bbef369ce8b9c5eb0fd5b2c893025c247f354c"
   }
  }
 },
 "nbformat": 4,
 "nbformat_minor": 5
}
